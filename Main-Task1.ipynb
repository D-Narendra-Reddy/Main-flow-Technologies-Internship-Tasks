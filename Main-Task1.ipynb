{
 "cells": [
  {
   "cell_type": "markdown",
   "id": "889ef3bf",
   "metadata": {},
   "source": [
    "# List"
   ]
  },
  {
   "cell_type": "code",
   "execution_count": 1,
   "id": "9b9369d5",
   "metadata": {},
   "outputs": [
    {
     "name": "stdout",
     "output_type": "stream",
     "text": [
      "Initial list: [1, 2, 3, 4]\n",
      "List after adding an element: [1, 2, 3, 4, 5]\n",
      "List after removing an element: [1, 2, 4, 5]\n",
      "List after modifying an element: [1, 10, 4, 5]\n"
     ]
    }
   ],
   "source": [
    "# List operations\n",
    "my_list = [1, 2, 3, 4]\n",
    "print(\"Initial list:\", my_list)\n",
    "\n",
    "# Adding an element to the list\n",
    "my_list.append(5)\n",
    "print(\"List after adding an element:\", my_list)\n",
    "\n",
    "# Removing an element from the list\n",
    "my_list.remove(3)\n",
    "print(\"List after removing an element:\", my_list)\n",
    "\n",
    "# Modifying an element in the list\n",
    "my_list[1] = 10\n",
    "print(\"List after modifying an element:\", my_list)"
   ]
  },
  {
   "cell_type": "markdown",
   "id": "3eb4a4df",
   "metadata": {},
   "source": [
    "# Dictionary"
   ]
  },
  {
   "cell_type": "code",
   "execution_count": 2,
   "id": "28bc4d66",
   "metadata": {},
   "outputs": [
    {
     "name": "stdout",
     "output_type": "stream",
     "text": [
      "\n",
      "Initial dictionary: {'a': 1, 'b': 2, 'c': 3}\n",
      "Dictionary after adding an element: {'a': 1, 'b': 2, 'c': 3, 'd': 4}\n",
      "Dictionary after removing an element: {'a': 1, 'c': 3, 'd': 4}\n",
      "Dictionary after modifying an element: {'a': 10, 'c': 3, 'd': 4}\n"
     ]
    }
   ],
   "source": [
    "# Dictionary operations\n",
    "my_dict = {'a': 1, 'b': 2, 'c': 3}\n",
    "print(\"\\nInitial dictionary:\", my_dict)\n",
    "\n",
    "# Adding an element to the dictionary\n",
    "my_dict['d'] = 4\n",
    "print(\"Dictionary after adding an element:\", my_dict)\n",
    "\n",
    "# Removing an element from the dictionary\n",
    "del my_dict['b']\n",
    "print(\"Dictionary after removing an element:\", my_dict)\n",
    "\n",
    "# Modifying an element in the dictionary\n",
    "my_dict['a'] = 10\n",
    "print(\"Dictionary after modifying an element:\", my_dict)"
   ]
  },
  {
   "cell_type": "markdown",
   "id": "77ca3a95",
   "metadata": {},
   "source": [
    "# Set "
   ]
  },
  {
   "cell_type": "code",
   "execution_count": 3,
   "id": "efeb9204",
   "metadata": {},
   "outputs": [
    {
     "name": "stdout",
     "output_type": "stream",
     "text": [
      "\n",
      "Initial set: {1, 2, 3, 4}\n",
      "Set after adding an element: {1, 2, 3, 4, 5}\n",
      "Set after removing an element: {1, 3, 4, 5}\n",
      "Set after modifying an element: {3, 4, 5, 10}\n"
     ]
    }
   ],
   "source": [
    "# Set operations\n",
    "my_set = {1, 2, 3, 4}\n",
    "print(\"\\nInitial set:\", my_set)\n",
    "\n",
    "# Adding an element to the set\n",
    "my_set.add(5)\n",
    "print(\"Set after adding an element:\", my_set)\n",
    "\n",
    "# Removing an element from the set\n",
    "my_set.remove(2)\n",
    "print(\"Set after removing an element:\", my_set)\n",
    "\n",
    "# Modifying elements in the set (sets don't have indexes, so we remove and add)\n",
    "my_set.remove(1)\n",
    "my_set.add(10)\n",
    "print(\"Set after modifying an element:\", my_set)"
   ]
  },
  {
   "cell_type": "code",
   "execution_count": null,
   "id": "215ee13b",
   "metadata": {},
   "outputs": [],
   "source": []
  }
 ],
 "metadata": {
  "kernelspec": {
   "display_name": "Python 3 (ipykernel)",
   "language": "python",
   "name": "python3"
  },
  "language_info": {
   "codemirror_mode": {
    "name": "ipython",
    "version": 3
   },
   "file_extension": ".py",
   "mimetype": "text/x-python",
   "name": "python",
   "nbconvert_exporter": "python",
   "pygments_lexer": "ipython3",
   "version": "3.11.3"
  }
 },
 "nbformat": 4,
 "nbformat_minor": 5
}
